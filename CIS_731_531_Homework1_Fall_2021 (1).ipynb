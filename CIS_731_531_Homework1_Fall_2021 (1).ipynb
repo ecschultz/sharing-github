{
 "cells": [
  {
   "cell_type": "raw",
   "metadata": {
    "id": "LONrq3m_lQ7v"
   },
   "source": [
    "# download and installing pyspark in colab\n",
    "!pip install -q pyspark\n",
    "\n",
    "# download Wuthering Heights, by Emily Bronte\n",
    "!wget -q https://www.gutenberg.org/files/103/103-0.txt"
   ]
  },
  {
   "cell_type": "markdown",
   "metadata": {
    "id": "-aZ5oeBj_y1O"
   },
   "source": [
    "The code below import the data file inside notebook which you need to process for this homework\n",
    "\n",
    "However, If you have any other method you want to use feel free to do that. There are no obligations on method use to complete the task. "
   ]
  },
  {
   "cell_type": "code",
   "execution_count": 7,
   "metadata": {
    "id": "cc0sYJDUmhp2"
   },
   "outputs": [
    {
     "ename": "FileNotFoundError",
     "evalue": "[Errno 2] No such file or directory: '103-0.txt'",
     "output_type": "error",
     "traceback": [
      "\u001b[1;31m---------------------------------------------------------------------------\u001b[0m",
      "\u001b[1;31mFileNotFoundError\u001b[0m                         Traceback (most recent call last)",
      "\u001b[1;32m<ipython-input-7-abf5b4b9f823>\u001b[0m in \u001b[0;36m<module>\u001b[1;34m\u001b[0m\n\u001b[0;32m      6\u001b[0m \u001b[1;31m#cwd = os.getcwd()\u001b[0m\u001b[1;33m\u001b[0m\u001b[1;33m\u001b[0m\u001b[1;33m\u001b[0m\u001b[0m\n\u001b[0;32m      7\u001b[0m \u001b[1;33m\u001b[0m\u001b[0m\n\u001b[1;32m----> 8\u001b[1;33m \u001b[0mgutenberg\u001b[0m \u001b[1;33m=\u001b[0m \u001b[0mopen\u001b[0m\u001b[1;33m(\u001b[0m\u001b[1;34m\"103-0.txt\"\u001b[0m\u001b[1;33m,\u001b[0m \u001b[1;34m\"r\"\u001b[0m\u001b[1;33m)\u001b[0m\u001b[1;33m\u001b[0m\u001b[1;33m\u001b[0m\u001b[0m\n\u001b[0m",
      "\u001b[1;31mFileNotFoundError\u001b[0m: [Errno 2] No such file or directory: '103-0.txt'"
     ]
    }
   ],
   "source": [
    "import os\n",
    "baseDir = os.path.join('data')\n",
    "inputPath = os.path.join('768-0.txt')\n",
    "fileName = os.path.join(baseDir, inputPath)\n",
    "# hint you can use <with open()...>  funtion \n",
    "\n",
    "gutenberg = open(\"103-0.txt\", \"r\")\n"
   ]
  },
  {
   "cell_type": "markdown",
   "metadata": {
    "id": "FhNJ4W25CmUJ"
   },
   "source": [
    "Use pyspark and process your data with funcion given below. It will remove unwated characters(punctuation) from your data"
   ]
  },
  {
   "cell_type": "code",
   "execution_count": null,
   "metadata": {
    "id": "pSU_wdD0rzAf"
   },
   "outputs": [],
   "source": [
    "# Remove punctuations function\n",
    "import re\n",
    "import string\n",
    "def removePunctuation(text):\n",
    "    \"\"\"Removes punctuation, changes to lower case, and strips leading and trailing spaces.\n",
    "\n",
    "    Note:\n",
    "        Only spaces, letters, and numbers should be retained.  Other characters should should be\n",
    "        eliminated (e.g. it's becomes its).  Leading and trailing spaces should be removed after\n",
    "        punctuation is removed.\n",
    "\n",
    "    Args:\n",
    "        text (str): A string.\n",
    "\n",
    "    Returns:\n",
    "        str: The cleaned up string.\n",
    "    \"\"\"\n",
    "    regex = re.compile('[%s]' % re.escape(string.punctuation))\n",
    "    return regex.sub('', text).lower().strip()"
   ]
  },
  {
   "cell_type": "code",
   "execution_count": null,
   "metadata": {
    "id": "hitSVwDFVMd8"
   },
   "outputs": [],
   "source": []
  },
  {
   "cell_type": "code",
   "execution_count": null,
   "metadata": {
    "id": "AWHnXFL4r2zT"
   },
   "outputs": [],
   "source": [
    "'''\n",
    " Optional piece of code which you might use to dispay the content you have in your initial RDD.\n",
    " It just might help you :) \n",
    " Feel free to delete it if you want\n",
    "'''\n",
    "\n",
    "print('\\n'.join(testing\n",
    "                .zipWithIndex()  \n",
    "                .map(lambda x: '{0}: {1}'.format(x[1], x[0]))  \n",
    "                .take(15)))"
   ]
  },
  {
   "cell_type": "code",
   "execution_count": null,
   "metadata": {
    "id": "P5HCc9IJW-Ab"
   },
   "outputs": [],
   "source": []
  }
 ],
 "metadata": {
  "colab": {
   "collapsed_sections": [],
   "name": "CIS-731-531_Homework1-_Fall 2021.ipynb",
   "provenance": []
  },
  "kernelspec": {
   "display_name": "Python 3",
   "language": "python",
   "name": "python3"
  },
  "language_info": {
   "codemirror_mode": {
    "name": "ipython",
    "version": 3
   },
   "file_extension": ".py",
   "mimetype": "text/x-python",
   "name": "python",
   "nbconvert_exporter": "python",
   "pygments_lexer": "ipython3",
   "version": "3.8.3"
  }
 },
 "nbformat": 4,
 "nbformat_minor": 1
}
